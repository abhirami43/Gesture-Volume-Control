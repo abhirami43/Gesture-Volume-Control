{
 "cells": [
  {
   "cell_type": "code",
   "execution_count": 6,
   "metadata": {},
   "outputs": [],
   "source": [
    "import mediapipe as mp\n",
    "import cv2\n",
    "import pyautogui"
   ]
  },
  {
   "cell_type": "code",
   "execution_count": 7,
   "metadata": {},
   "outputs": [],
   "source": [
    "x1=y1=x2=y2=0"
   ]
  },
  {
   "cell_type": "code",
   "execution_count": 8,
   "metadata": {},
   "outputs": [],
   "source": [
    "mphands = mp.solutions.hands\n",
    "mp_drawing = mp.solutions.drawing_utils"
   ]
  },
  {
   "cell_type": "code",
   "execution_count": 9,
   "metadata": {},
   "outputs": [],
   "source": [
    "Hand = mphands.Hands()"
   ]
  },
  {
   "cell_type": "code",
   "execution_count": 12,
   "metadata": {},
   "outputs": [],
   "source": [
    "video = cv2.VideoCapture(0)\n",
    "\n",
    "while True:\n",
    "    success,image = video.read()\n",
    "    image=cv2.flip(image,1)\n",
    "    image = cv2.cvtColor(image,cv2.COLOR_BGR2RGB)\n",
    "    frame_height, frame_width, _ = image.shape\n",
    "    result = Hand.process(image)\n",
    "    image = cv2.cvtColor(image,cv2.COLOR_RGB2BGR)\n",
    "    hands=result.multi_hand_landmarks\n",
    "    if  hands:\n",
    "        for hand in hands:\n",
    "            mp_drawing.draw_landmarks(image,hand,mphands.HAND_CONNECTIONS)\n",
    "            landmarks=hand.landmark\n",
    "            for id,landmark in enumerate(landmarks):\n",
    "                x=int(landmark.x * frame_width)\n",
    "                y=int(landmark.y * frame_height)\n",
    "                if id == 8:\n",
    "                    cv2.circle(img=image,center=(x,y),radius=6,color=(0,0,255),thickness=3)\n",
    "                    x1=x\n",
    "                    y1=y\n",
    "                if id == 4:\n",
    "                    cv2.circle(img=image,center=(x,y),radius=6,color=(0,0,255),thickness=3)\n",
    "                    x2=x\n",
    "                    y2=y\n",
    "        dist=((x2-x1)**2 +(y2-y1)**2)**(0.5)//4\n",
    "        cv2.line(image,(x1,y1),(x2,y2),(255,0,0),5)\n",
    "        if dist>50 :\n",
    "            pyautogui.press(\"volumeup\")\n",
    "        else:\n",
    "            pyautogui.press(\"volumedown\")\n",
    "\n",
    "    cv2.imshow(\"HAND\",image)\n",
    "    if cv2.waitKey(1) & 0XFF == ord('q'):\n",
    "        break\n",
    "\n",
    "video.release()\n",
    "cv2.destroyAllWindows()\n"
   ]
  }
 ],
 "metadata": {
  "kernelspec": {
   "display_name": "Python 3",
   "language": "python",
   "name": "python3"
  },
  "language_info": {
   "codemirror_mode": {
    "name": "ipython",
    "version": 3
   },
   "file_extension": ".py",
   "mimetype": "text/x-python",
   "name": "python",
   "nbconvert_exporter": "python",
   "pygments_lexer": "ipython3",
   "version": "3.9.13"
  }
 },
 "nbformat": 4,
 "nbformat_minor": 2
}
